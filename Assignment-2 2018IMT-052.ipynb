{
  "nbformat": 4,
  "nbformat_minor": 0,
  "metadata": {
    "colab": {
      "name": "Untitled2.ipynb",
      "provenance": [],
      "collapsed_sections": []
    },
    "kernelspec": {
      "name": "python3",
      "display_name": "Python 3"
    },
    "language_info": {
      "name": "python"
    }
  },
  "cells": [
    {
      "cell_type": "code",
      "metadata": {
        "id": "r-x3wAGQ1ZLn"
      },
      "source": [
        "from __future__ import print_function, division\n",
        "from future.utils import iteritems\n",
        "from builtins import range, input\n",
        "\n",
        "from sklearn.metrics import confusion_matrix\n",
        "\n",
        "\n",
        "\n",
        "import csv\n",
        "import keras\n",
        "import numpy as np\n",
        "from datetime import datetime\n",
        "from scipy.stats import norm\n",
        "from scipy.stats import multivariate_normal as mvn\n",
        "\n",
        "from keras.datasets import mnist\n",
        "global cm\n",
        "cm = [0]*10\n",
        "\n",
        "class NaiveBayes(object):\n",
        "    def fit(self, X, Y, smoothing=1e+3):\n",
        "        self.gaussians = dict()\n",
        "        self.priors = dict()\n",
        "        labels = set(Y)\n",
        "        for c in labels:\n",
        "            current_x = X[Y == c]\n",
        "            self.gaussians[c] = {\n",
        "                'mean': current_x.mean(axis=0),\n",
        "                'var': current_x.var(axis=0) + smoothing,\n",
        "            }\n",
        "            self.priors[c] = float(len(Y[Y == c])) / len(Y)\n",
        "\n",
        "    def score(self, X, Y):\n",
        "        P = self.predict(X)\n",
        "        for i in range(10):\n",
        "            cm[i]=0\n",
        "        for i in range(len(Y)):\n",
        "          if P[i]!=Y[i]:\n",
        "            cm[Y[i]]+=1\n",
        "        return np.mean(P == Y)\n",
        "\n",
        "    def predict(self, X):\n",
        "        N, D = X.shape[0], X.shape[1]**2\n",
        "        K = len(self.gaussians)\n",
        "        P = np.zeros((N, K))\n",
        "        for c, g in iteritems(self.gaussians):\n",
        "            mean, var = g['mean'], g['var']\n",
        "            P[:,c] = mvn.logpdf(X, mean=mean, cov=var, allow_singular=True) + np.log(self.priors[c])\n",
        "        return np.argmax(P, axis=1)\n",
        "    \n",
        "\n",
        "\n",
        "def data_split(FILE_NAME):\n",
        "        with open(FILE_NAME, \"r\") as f:\n",
        "            data = list(csv.reader(f, delimiter=\",\"))\n",
        "\n",
        "        data = np.array(data[1:], dtype=np.float32)\n",
        "        print(data.shape)\n",
        "        n_samples, n_features = data.shape\n",
        "        x = data[:, 1:n_features]\n",
        "        y = data[:, 0]\n",
        "        return (x,y)\n",
        "        \n",
        "        \n",
        "\n",
        "def accuracy(y_true, y_pred):\n",
        "    accuracy = np.sum(y_true == y_pred) / len(y_true)\n",
        "    return accuracy\n",
        "\n"
      ],
      "execution_count": 71,
      "outputs": []
    },
    {
      "cell_type": "markdown",
      "metadata": {
        "id": "5PmqfkEwBHfZ"
      },
      "source": [
        "**Without Smoothing**"
      ]
    },
    {
      "cell_type": "code",
      "metadata": {
        "colab": {
          "base_uri": "https://localhost:8080/"
        },
        "id": "l5ZSkiq0AwaJ",
        "outputId": "1d9af4ea-4f6c-4d51-bef6-dc2e16409268"
      },
      "source": [
        "if __name__ == '__main__':\n",
        "    \n",
        "    \n",
        "    (Xtrain, Ytrain), (Xtest, Ytest) = mnist.load_data()\n",
        "    Xtrain = np.reshape(Xtrain,(Xtrain.shape[0],784))\n",
        "    Xtest = np.reshape(Xtest,(Xtest.shape[0],784))\n",
        "\n",
        "    model = NaiveBayes()\n",
        "    model.fit(Xtrain, Ytrain, smoothing=0)\n",
        "\n",
        "    train_acc = model.score(Xtrain, Ytrain)\n",
        "    print(\"Train accuracy:\", train_acc)\n",
        "\n",
        "    print(\"Test accuracy:\", model.score(Xtest, Ytest))\n",
        "    print(\"Digit Wise Error Ratio:\")\n",
        "    s=0\n",
        "    for i in range(len(cm)):\n",
        "      s= s+cm[i]\n",
        "\n",
        "    cm1 = [cm[i]/s for i in range(len(cm))]\n",
        "    print(cm1)\n"
      ],
      "execution_count": 72,
      "outputs": [
        {
          "output_type": "stream",
          "name": "stdout",
          "text": [
            "Train accuracy: 0.6498\n",
            "Test accuracy: 0.6483\n",
            "Digit Wise Error Ratio:\n",
            "[0.026727324424225193, 0.012226329257890247, 0.1612169462610179, 0.10435029854990048, 0.17998294000568665, 0.21580892806369065, 0.020756326414557862, 0.16860961046346318, 0.08757463747512084, 0.022746659084446973]\n"
          ]
        }
      ]
    },
    {
      "cell_type": "markdown",
      "metadata": {
        "id": "h-zU1Vl2BegE"
      },
      "source": [
        "**With Smoothing**"
      ]
    },
    {
      "cell_type": "code",
      "metadata": {
        "colab": {
          "base_uri": "https://localhost:8080/"
        },
        "id": "rHm8NAosBlcH",
        "outputId": "95e53121-fbbb-420c-c637-5167e78e2b85"
      },
      "source": [
        "if __name__ == '__main__':\n",
        "    \n",
        "    \n",
        "    (Xtrain, Ytrain), (Xtest, Ytest) = mnist.load_data()\n",
        "    Xtrain = np.reshape(Xtrain,(Xtrain.shape[0],784))\n",
        "    Xtest = np.reshape(Xtest,(Xtest.shape[0],784))\n",
        "\n",
        "    model = NaiveBayes()\n",
        "    model.fit(Xtrain, Ytrain, smoothing=1e+3)\n",
        "    \n",
        "    train_acc = model.score(Xtrain, Ytrain)\n",
        "    print(\"Train accuracy:\", train_acc)\n",
        "\n",
        "    print(\"Test accuracy:\", model.score(Xtest, Ytest))\n",
        "    print(\"Digit Wise Error Ratio:\")\n",
        "    s=0\n",
        "    for i in range(len(cm)):\n",
        "      s= s+cm[i]\n",
        "\n",
        "    cm1 = [cm[i]/s for i in range(len(cm))]\n",
        "    print(cm1)"
      ],
      "execution_count": 73,
      "outputs": [
        {
          "output_type": "stream",
          "name": "stdout",
          "text": [
            "Train accuracy: 0.80235\n",
            "Test accuracy: 0.815\n",
            "Digit Wise Error Ratio:\n",
            "[0.04216216216216216, 0.02108108108108108, 0.1372972972972973, 0.10594594594594595, 0.18486486486486486, 0.17189189189189188, 0.05027027027027027, 0.10324324324324324, 0.12486486486486487, 0.05837837837837838]\n"
          ]
        }
      ]
    }
  ]
}
